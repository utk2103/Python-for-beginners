{
 "cells": [
  {
   "cell_type": "markdown",
   "id": "ed3bf423",
   "metadata": {},
   "source": [
    "# Dictionaries\n",
    "  In other languages it is also called hash maps or associative arrays."
   ]
  },
  {
   "cell_type": "code",
   "execution_count": 1,
   "id": "e7560322",
   "metadata": {},
   "outputs": [
    {
     "name": "stdout",
     "output_type": "stream",
     "text": [
      "['compsci', 'maths']\n"
     ]
    }
   ],
   "source": [
    "student ={'name': 'Utkarsh', 'age':20, 'courses':['compsci','maths']}\n",
    "print(student['courses'])"
   ]
  },
  {
   "cell_type": "code",
   "execution_count": 2,
   "id": "00e07c62",
   "metadata": {},
   "outputs": [
    {
     "name": "stdout",
     "output_type": "stream",
     "text": [
      "Utkarsh\n"
     ]
    }
   ],
   "source": [
    "student ={'name': 'Utkarsh', 'age':20, 'courses':['compsci','maths']}\n",
    "print(student.get('name')) ##Same as before "
   ]
  },
  {
   "cell_type": "code",
   "execution_count": 3,
   "id": "de3b5e62",
   "metadata": {},
   "outputs": [
    {
     "name": "stdout",
     "output_type": "stream",
     "text": [
      "Not found\n"
     ]
    }
   ],
   "source": [
    "student ={'name': 'Utkarsh', 'age':20, 'courses':['compsci','maths']}\n",
    "print(student.get('phone','Not found'))"
   ]
  },
  {
   "cell_type": "code",
   "execution_count": 4,
   "id": "90fa407d",
   "metadata": {},
   "outputs": [
    {
     "name": "stdout",
     "output_type": "stream",
     "text": [
      "20\n"
     ]
    }
   ],
   "source": [
    "student ={'name': 'Utkarsh', 'age':20, 'courses':['compsci','maths']}\n",
    "print(student.get('age','Found'))"
   ]
  },
  {
   "cell_type": "code",
   "execution_count": 5,
   "id": "3dedd773",
   "metadata": {},
   "outputs": [],
   "source": [
    "##Adding a element in a dictionaries\n"
   ]
  },
  {
   "cell_type": "code",
   "execution_count": 6,
   "id": "9f715644",
   "metadata": {},
   "outputs": [
    {
     "name": "stdout",
     "output_type": "stream",
     "text": [
      "{'name': 'Jane', 'age': 23, 'courses': ['Physics']}\n"
     ]
    }
   ],
   "source": [
    "##Updating a element in a dictionary\n",
    "student ={'name': 'Utkarsh', 'age':20, 'courses':['compsci','maths']}\n",
    "student ={'name': 'Jane' , 'age':23 , 'courses':['Physics']}\n",
    "print(student)"
   ]
  },
  {
   "cell_type": "code",
   "execution_count": 8,
   "id": "9e8ec83a",
   "metadata": {},
   "outputs": [
    {
     "name": "stdout",
     "output_type": "stream",
     "text": [
      "{'name': 'Jane', 'age': 23, 'courses': ['Physics']}\n"
     ]
    }
   ],
   "source": [
    "##ANother updating method\n",
    "student ={'name': 'Utkarsh', 'age':20, 'courses':['compsci','maths']}\n",
    "student.update({'name': 'Jane' , 'age':23 , 'courses':['Physics']})\n",
    "print(student)"
   ]
  },
  {
   "cell_type": "code",
   "execution_count": 1,
   "id": "2df6760e",
   "metadata": {},
   "outputs": [
    {
     "name": "stdout",
     "output_type": "stream",
     "text": [
      "{'name': 'Utkarsh', 'courses': ['compsci', 'maths']}\n"
     ]
    }
   ],
   "source": [
    "##Delete  method\n",
    "student ={'name': 'Utkarsh', 'age':20, 'courses':['compsci','maths']}\n",
    "del student['age']\n",
    "print(student)"
   ]
  },
  {
   "cell_type": "code",
   "execution_count": 3,
   "id": "ffcfbed2",
   "metadata": {},
   "outputs": [
    {
     "name": "stdout",
     "output_type": "stream",
     "text": [
      "{'name': 'Utkarsh', 'courses': ['compsci', 'maths']}\n"
     ]
    }
   ],
   "source": [
    "## Another Delete  method\n",
    "student ={'name': 'Utkarsh', 'age':20, 'courses':['compsci','maths']}\n",
    "age = student.pop('age')\n",
    "print(student)"
   ]
  },
  {
   "cell_type": "code",
   "execution_count": 4,
   "id": "786a1d35",
   "metadata": {},
   "outputs": [
    {
     "name": "stdout",
     "output_type": "stream",
     "text": [
      "3\n"
     ]
    }
   ],
   "source": [
    "## How many keys in the dictionaries\n",
    "student ={'name': 'Utkarsh', 'age':20, 'courses':['compsci','maths']}\n",
    "print(len(student))"
   ]
  },
  {
   "cell_type": "code",
   "execution_count": 5,
   "id": "0c134474",
   "metadata": {},
   "outputs": [
    {
     "name": "stdout",
     "output_type": "stream",
     "text": [
      "dict_keys(['name', 'age', 'courses'])\n"
     ]
    }
   ],
   "source": [
    "## Show keys of a dictionary\n",
    "student ={'name': 'Utkarsh', 'age':20, 'courses':['compsci','maths']}\n",
    "print(student.keys())"
   ]
  },
  {
   "cell_type": "code",
   "execution_count": 6,
   "id": "92e2ad17",
   "metadata": {},
   "outputs": [
    {
     "name": "stdout",
     "output_type": "stream",
     "text": [
      "dict_items([('name', 'Utkarsh'), ('age', 20), ('courses', ['compsci', 'maths'])])\n"
     ]
    }
   ],
   "source": [
    "##Want to see keys and values\n",
    "student ={'name': 'Utkarsh', 'age':20, 'courses':['compsci','maths']}\n",
    "print(student.items())"
   ]
  },
  {
   "cell_type": "code",
   "execution_count": 7,
   "id": "daf0aabc",
   "metadata": {},
   "outputs": [
    {
     "name": "stdout",
     "output_type": "stream",
     "text": [
      "dict_values(['Utkarsh', 20, ['compsci', 'maths']])\n"
     ]
    }
   ],
   "source": [
    "##Want to see the values\\\n",
    "student ={'name': 'Utkarsh', 'age':20, 'courses':['compsci','maths']}\n",
    "print(student.values())"
   ]
  },
  {
   "cell_type": "code",
   "execution_count": 8,
   "id": "3f4c78b6",
   "metadata": {},
   "outputs": [
    {
     "name": "stdout",
     "output_type": "stream",
     "text": [
      "name\n",
      "age\n",
      "courses\n"
     ]
    }
   ],
   "source": [
    "##Loop through all the keys \n",
    "student ={'name': 'Utkarsh', 'age':20, 'courses':['compsci','maths']}\n",
    "for key in student:\n",
    "    print(key)"
   ]
  },
  {
   "cell_type": "code",
   "execution_count": 10,
   "id": "4359c617",
   "metadata": {},
   "outputs": [
    {
     "name": "stdout",
     "output_type": "stream",
     "text": [
      "('name', 'Utkarsh')\n",
      "('age', 20)\n",
      "('courses', ['compsci', 'maths'])\n"
     ]
    }
   ],
   "source": [
    "##Loop through all the keys and values\n",
    "student ={'name': 'Utkarsh', 'age':20, 'courses':['compsci','maths']}\n",
    "for key in student.items():\n",
    "    print(key)"
   ]
  },
  {
   "cell_type": "code",
   "execution_count": 13,
   "id": "d83031c8",
   "metadata": {},
   "outputs": [
    {
     "name": "stdout",
     "output_type": "stream",
     "text": [
      "name Utkarsh\n",
      "age 20\n",
      "courses ['compsci', 'maths']\n"
     ]
    }
   ],
   "source": [
    "##Loop through all the keys and values 2nd\n",
    "student ={'name': 'Utkarsh', 'age':20, 'courses':['compsci','maths']}\n",
    "for key,value in student.items():\n",
    "    print(key , value)"
   ]
  },
  {
   "cell_type": "code",
   "execution_count": null,
   "id": "005788b0",
   "metadata": {},
   "outputs": [],
   "source": []
  }
 ],
 "metadata": {
  "kernelspec": {
   "display_name": "Python 3 (ipykernel)",
   "language": "python",
   "name": "python3"
  },
  "language_info": {
   "codemirror_mode": {
    "name": "ipython",
    "version": 3
   },
   "file_extension": ".py",
   "mimetype": "text/x-python",
   "name": "python",
   "nbconvert_exporter": "python",
   "pygments_lexer": "ipython3",
   "version": "3.10.9"
  }
 },
 "nbformat": 4,
 "nbformat_minor": 5
}
