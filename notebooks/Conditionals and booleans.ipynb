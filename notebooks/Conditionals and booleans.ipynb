{
 "cells": [
  {
   "cell_type": "markdown",
   "id": "a8e1dd5a",
   "metadata": {},
   "source": [
    "# Conditionals and booleans\n",
    "In this lesson we're learning about conditionals if else elif statement\n"
   ]
  },
  {
   "cell_type": "code",
   "execution_count": 4,
   "id": "f98a9526",
   "metadata": {},
   "outputs": [
    {
     "name": "stdout",
     "output_type": "stream",
     "text": [
      "Condition is true\n"
     ]
    }
   ],
   "source": [
    "if True:\n",
    "    print('Condition is true')"
   ]
  },
  {
   "cell_type": "code",
   "execution_count": 5,
   "id": "eedd14ba",
   "metadata": {},
   "outputs": [],
   "source": [
    "if False:\n",
    "    print('Condition is false')"
   ]
  },
  {
   "cell_type": "code",
   "execution_count": 6,
   "id": "e96daa41",
   "metadata": {},
   "outputs": [
    {
     "name": "stdout",
     "output_type": "stream",
     "text": [
      "Language is python\n"
     ]
    }
   ],
   "source": [
    "language = 'Python'\n",
    "if language == 'Python':\n",
    "    print(\"Language is python\")\n",
    "else:\n",
    "    print(\"No matching\")"
   ]
  },
  {
   "cell_type": "code",
   "execution_count": 7,
   "id": "46416248",
   "metadata": {},
   "outputs": [
    {
     "name": "stdout",
     "output_type": "stream",
     "text": [
      "No matching\n"
     ]
    }
   ],
   "source": [
    "language = 'Java'\n",
    "if language == 'Python':\n",
    "    print(\"Language is python\")\n",
    "else:\n",
    "    print(\"No matching\")"
   ]
  },
  {
   "cell_type": "code",
   "execution_count": 12,
   "id": "2f15b8da",
   "metadata": {},
   "outputs": [
    {
     "name": "stdout",
     "output_type": "stream",
     "text": [
      "Language is Java\n"
     ]
    }
   ],
   "source": [
    "language = 'Java'\n",
    "if language == 'Python':\n",
    "    print(\"Language is python\")\n",
    "elif language == 'Javascript':\n",
    "    print(\"Language is Javascript\")\n",
    "elif language == 'Java':\n",
    "    print(\"Language is Java\")    \n",
    "else:\n",
    "    print(\"No matching\")"
   ]
  },
  {
   "cell_type": "code",
   "execution_count": 22,
   "id": "84bc8422",
   "metadata": {},
   "outputs": [
    {
     "name": "stdout",
     "output_type": "stream",
     "text": [
      "Good info\n"
     ]
    }
   ],
   "source": [
    "Name = 'Utkarsh'\n",
    "Surname ='Upadhyay'\n",
    "logged_in ='True'\n",
    "if Name == 'Utkarsh' or Surname or logged_in:\n",
    "    print('Good info')\n",
    "else:\n",
    "    print('Badd info')"
   ]
  },
  {
   "cell_type": "code",
   "execution_count": 1,
   "id": "4c59c962",
   "metadata": {},
   "outputs": [
    {
     "name": "stdout",
     "output_type": "stream",
     "text": [
      "Admin page\n"
     ]
    }
   ],
   "source": [
    "user = 'Admin'\n",
    "logged_in = True\n",
    "if user == 'Admin' and logged_in:\n",
    "    print('Admin page')\n",
    "else:\n",
    "    print('Bad creds')"
   ]
  },
  {
   "cell_type": "code",
   "execution_count": 2,
   "id": "fed48ad4",
   "metadata": {},
   "outputs": [
    {
     "name": "stdout",
     "output_type": "stream",
     "text": [
      "Bad creds\n"
     ]
    }
   ],
   "source": [
    "user = 'Admin'\n",
    "logged_in = False\n",
    "if user == 'Admin' and logged_in:\n",
    "    print('Admin page')\n",
    "else:\n",
    "    print('Bad creds')"
   ]
  },
  {
   "cell_type": "code",
   "execution_count": 3,
   "id": "1f04736b",
   "metadata": {},
   "outputs": [
    {
     "name": "stdout",
     "output_type": "stream",
     "text": [
      "Admin page\n"
     ]
    }
   ],
   "source": [
    "user = 'Admin'\n",
    "logged_in = False\n",
    "if user == 'Admin' or logged_in:\n",
    "    print('Admin page')\n",
    "else:\n",
    "    print('Bad creds')"
   ]
  },
  {
   "cell_type": "code",
   "execution_count": 4,
   "id": "e35fdb14",
   "metadata": {},
   "outputs": [
    {
     "name": "stdout",
     "output_type": "stream",
     "text": [
      "Please Log In\n"
     ]
    }
   ],
   "source": [
    "user = 'Admin'\n",
    "logged_in = False\n",
    "if not logged_in:\n",
    "    print('Please Log In')\n",
    "else:\n",
    "    print('Welcome')"
   ]
  },
  {
   "cell_type": "markdown",
   "id": "8b183203",
   "metadata": {},
   "source": [
    "Difference between is and ==\n",
    "is-- checks whether the object are same in memory or not like memory having same address which we can see in IN 8,9\n",
    "and == -- checks whether the object in the memory are same or not\n"
   ]
  },
  {
   "cell_type": "code",
   "execution_count": 6,
   "id": "813f897b",
   "metadata": {},
   "outputs": [
    {
     "name": "stdout",
     "output_type": "stream",
     "text": [
      "True\n"
     ]
    }
   ],
   "source": [
    "a=[1,2,3]\n",
    "b=[1,2,3]\n",
    "print(a==b)"
   ]
  },
  {
   "cell_type": "code",
   "execution_count": 7,
   "id": "5aef3459",
   "metadata": {},
   "outputs": [
    {
     "name": "stdout",
     "output_type": "stream",
     "text": [
      "False\n"
     ]
    }
   ],
   "source": [
    "a=[1,2,3]\n",
    "b=[1,2,3]\n",
    "print(a is b)"
   ]
  },
  {
   "cell_type": "code",
   "execution_count": 8,
   "id": "bcce003c",
   "metadata": {},
   "outputs": [
    {
     "name": "stdout",
     "output_type": "stream",
     "text": [
      "1509811759488\n",
      "1509811760128\n",
      "False\n"
     ]
    }
   ],
   "source": [
    "a=[1,2,3]\n",
    "b=[1,2,3]\n",
    "print(id(a))\n",
    "print(id(b))\n",
    "print(a is b)"
   ]
  },
  {
   "cell_type": "code",
   "execution_count": 9,
   "id": "de019d20",
   "metadata": {},
   "outputs": [
    {
     "name": "stdout",
     "output_type": "stream",
     "text": [
      "1509811753856\n",
      "1509811753856\n",
      "True\n"
     ]
    }
   ],
   "source": [
    "a = [1,2,3]\n",
    "b = a\n",
    "print(id(a))\n",
    "print(id(b))\n",
    "print(a==b)"
   ]
  },
  {
   "cell_type": "markdown",
   "id": "5f3d4153",
   "metadata": {},
   "source": [
    "# False values:\n",
    " *False \n",
    " *None \n",
    " *Zero of any numeric type \n",
    " *Any empty sequence. For example, '',(),[].\n",
    " *Any empty mapping. For example, {}.\n",
    " "
   ]
  },
  {
   "cell_type": "code",
   "execution_count": 10,
   "id": "e50449f9",
   "metadata": {},
   "outputs": [
    {
     "name": "stdout",
     "output_type": "stream",
     "text": [
      "Evaluated to False\n"
     ]
    }
   ],
   "source": [
    "condition = False\n",
    "\n",
    "if condition:\n",
    "    print('Evaluated to True')\n",
    "else:\n",
    "    print('Evaluated to False')"
   ]
  },
  {
   "cell_type": "code",
   "execution_count": 11,
   "id": "7a265768",
   "metadata": {},
   "outputs": [
    {
     "name": "stdout",
     "output_type": "stream",
     "text": [
      "Evaluated to False\n"
     ]
    }
   ],
   "source": [
    "condition = None\n",
    "\n",
    "if condition:\n",
    "    print('Evaluated to True')\n",
    "else:\n",
    "    print('Evaluated to False')"
   ]
  },
  {
   "cell_type": "code",
   "execution_count": 12,
   "id": "e0a96d04",
   "metadata": {},
   "outputs": [
    {
     "name": "stdout",
     "output_type": "stream",
     "text": [
      "Evaluated to False\n"
     ]
    }
   ],
   "source": [
    "condition = 0\n",
    "\n",
    "if condition:\n",
    "    print('Evaluated to True')\n",
    "else:\n",
    "    print('Evaluated to False')"
   ]
  },
  {
   "cell_type": "code",
   "execution_count": 13,
   "id": "772d5f77",
   "metadata": {},
   "outputs": [
    {
     "name": "stdout",
     "output_type": "stream",
     "text": [
      "Evaluated to True\n"
     ]
    }
   ],
   "source": [
    "condition = 10\n",
    "\n",
    "if condition:\n",
    "    print('Evaluated to True')\n",
    "else:\n",
    "    print('Evaluated to False')"
   ]
  },
  {
   "cell_type": "code",
   "execution_count": 14,
   "id": "6cdb232c",
   "metadata": {},
   "outputs": [
    {
     "name": "stdout",
     "output_type": "stream",
     "text": [
      "Evaluated to False\n"
     ]
    }
   ],
   "source": [
    "condition = []\n",
    "\n",
    "if condition:\n",
    "    print('Evaluated to True')\n",
    "else:\n",
    "    print('Evaluated to False')"
   ]
  },
  {
   "cell_type": "code",
   "execution_count": null,
   "id": "0379af96",
   "metadata": {},
   "outputs": [],
   "source": []
  }
 ],
 "metadata": {
  "kernelspec": {
   "display_name": "Python 3 (ipykernel)",
   "language": "python",
   "name": "python3"
  },
  "language_info": {
   "codemirror_mode": {
    "name": "ipython",
    "version": 3
   },
   "file_extension": ".py",
   "mimetype": "text/x-python",
   "name": "python",
   "nbconvert_exporter": "python",
   "pygments_lexer": "ipython3",
   "version": "3.10.9"
  }
 },
 "nbformat": 4,
 "nbformat_minor": 5
}
