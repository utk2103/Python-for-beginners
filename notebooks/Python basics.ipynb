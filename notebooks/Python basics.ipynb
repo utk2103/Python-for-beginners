{
 "cells": [
  {
   "cell_type": "code",
   "execution_count": null,
   "id": "66bb72ca",
   "metadata": {},
   "outputs": [],
   "source": [
    "#dictionaries \n",
    "a ={1:\"first name\",2:\"second name\",3:\"third name\"}\n"
   ]
  },
  {
   "cell_type": "code",
   "execution_count": null,
   "id": "ea6912db",
   "metadata": {},
   "outputs": [],
   "source": []
  },
  {
   "cell_type": "code",
   "execution_count": 1,
   "id": "33f6bc5d",
   "metadata": {},
   "outputs": [
    {
     "name": "stdout",
     "output_type": "stream",
     "text": [
      "5\n"
     ]
    }
   ],
   "source": [
    "a=10//2\n",
    "print(a)"
   ]
  },
  {
   "cell_type": "code",
   "execution_count": null,
   "id": "5e38f3d8",
   "metadata": {},
   "outputs": [],
   "source": [
    "\n",
    "print(\"My first name\")"
   ]
  },
  {
   "cell_type": "code",
   "execution_count": 2,
   "id": "05ea10fc",
   "metadata": {},
   "outputs": [
    {
     "name": "stdout",
     "output_type": "stream",
     "text": [
      "5.0\n"
     ]
    }
   ],
   "source": [
    "a=10/2\n",
    "print(a)"
   ]
  },
  {
   "cell_type": "code",
   "execution_count": 3,
   "id": "6c016c4e",
   "metadata": {},
   "outputs": [
    {
     "name": "stdout",
     "output_type": "stream",
     "text": [
      "[1, 2, 'string']\n"
     ]
    }
   ],
   "source": [
    "list1= [1,2,\"string\"]\n",
    "print(list1)"
   ]
  },
  {
   "cell_type": "code",
   "execution_count": 4,
   "id": "3382e434",
   "metadata": {},
   "outputs": [
    {
     "name": "stdout",
     "output_type": "stream",
     "text": [
      "0\n",
      "1\n",
      "2\n",
      "3\n",
      "4\n",
      "5\n",
      "6\n",
      "7\n",
      "8\n",
      "9\n",
      "10\n"
     ]
    }
   ],
   "source": [
    "for i in range(0,11):\n",
    "    print(i)"
   ]
  },
  {
   "cell_type": "code",
   "execution_count": 7,
   "id": "670ebc0b",
   "metadata": {},
   "outputs": [
    {
     "name": "stdout",
     "output_type": "stream",
     "text": [
      "11\n",
      "10\n",
      "9\n",
      "8\n",
      "7\n",
      "6\n",
      "5\n",
      "4\n",
      "3\n",
      "2\n",
      "1\n"
     ]
    }
   ],
   "source": [
    "for i in range(11,0,-1):\n",
    "    print(i)"
   ]
  },
  {
   "cell_type": "code",
   "execution_count": 2,
   "id": "a84aa53e",
   "metadata": {},
   "outputs": [
    {
     "name": "stdout",
     "output_type": "stream",
     "text": [
      "john\n"
     ]
    }
   ],
   "source": [
    "#dictionaries\n",
    "student= {'name': 'john','age':22,'courses':['Math','Compsci']}\n",
    "print(student['name'])"
   ]
  },
  {
   "cell_type": "code",
   "execution_count": 1,
   "id": "635833e7",
   "metadata": {},
   "outputs": [
    {
     "name": "stdout",
     "output_type": "stream",
     "text": [
      "john\n"
     ]
    }
   ],
   "source": [
    "#dictionaries\n",
    "student= {'name': 'john','age':22,'courses':['Math','Compsci']}\n",
    "print(student['name'])"
   ]
  },
  {
   "cell_type": "code",
   "execution_count": 2,
   "id": "bbb6bd54",
   "metadata": {},
   "outputs": [
    {
     "ename": "SyntaxError",
     "evalue": "invalid syntax (2023507962.py, line 1)",
     "output_type": "error",
     "traceback": [
      "\u001b[1;36m  Cell \u001b[1;32mIn[2], line 1\u001b[1;36m\u001b[0m\n\u001b[1;33m    Python opertator\u001b[0m\n\u001b[1;37m           ^\u001b[0m\n\u001b[1;31mSyntaxError\u001b[0m\u001b[1;31m:\u001b[0m invalid syntax\n"
     ]
    }
   ],
   "source": [
    "Python opertator \n",
    "1. Equality operator\n",
    "  is,is not, ==,!=\n",
    "2. Comparsion operator\n",
    "<,>,<=,>=\n",
    "3. Arithmetic operator\n",
    "+,-,/(float),//,*\n",
    "4. Logical operator\n",
    " Not,and,or"
   ]
  },
  {
   "cell_type": "code",
   "execution_count": 4,
   "id": "ae9b6101",
   "metadata": {},
   "outputs": [
    {
     "data": {
      "text/plain": [
       "True"
      ]
     },
     "execution_count": 4,
     "metadata": {},
     "output_type": "execute_result"
    }
   ],
   "source": [
    "a=True\n",
    "b=False\n",
    "a or b\n"
   ]
  },
  {
   "cell_type": "code",
   "execution_count": 5,
   "id": "d45bf7d0",
   "metadata": {
    "scrolled": true
   },
   "outputs": [
    {
     "data": {
      "text/plain": [
       "False"
      ]
     },
     "execution_count": 5,
     "metadata": {},
     "output_type": "execute_result"
    }
   ],
   "source": [
    "a=True\n",
    "b=False\n",
    "a & b"
   ]
  },
  {
   "cell_type": "code",
   "execution_count": 6,
   "id": "09390326",
   "metadata": {},
   "outputs": [
    {
     "data": {
      "text/plain": [
       "True"
      ]
     },
     "execution_count": 6,
     "metadata": {},
     "output_type": "execute_result"
    }
   ],
   "source": [
    "a=True\n",
    "b=False\n",
    "a !=b"
   ]
  },
  {
   "cell_type": "code",
   "execution_count": null,
   "id": "97100f96",
   "metadata": {},
   "outputs": [],
   "source": [
    "age =int(input(\"Enter the age\"))\n",
    "if (age<18 or age>=35):\n",
    "    print(\"Your memory is not that fast\")\n",
    "else: print(\"Your memory is not that fast\")"
   ]
  },
  {
   "cell_type": "code",
   "execution_count": 11,
   "id": "dc896a25",
   "metadata": {},
   "outputs": [
    {
     "data": {
      "text/plain": [
       "False"
      ]
     },
     "execution_count": 11,
     "metadata": {},
     "output_type": "execute_result"
    }
   ],
   "source": [
    "a=\"Marvel\"\n",
    "b=\"Disney\"\n",
    "a==b"
   ]
  },
  {
   "cell_type": "code",
   "execution_count": 15,
   "id": "6bab4e3c",
   "metadata": {},
   "outputs": [
    {
     "name": "stdout",
     "output_type": "stream",
     "text": [
      "Enter the age 18\n",
      "You are in the teenage\n"
     ]
    }
   ],
   "source": [
    "age=int(input(\"Enter the age \"))\n",
    "if age==18:\n",
    "    print(\"You are in the teenage\")"
   ]
  },
  {
   "cell_type": "code",
   "execution_count": 12,
   "id": "240b6ef5",
   "metadata": {},
   "outputs": [
    {
     "name": "stdout",
     "output_type": "stream",
     "text": [
      "1570455268080\n",
      "1570455270192\n"
     ]
    }
   ],
   "source": [
    "a=\"Marvel\"\n",
    "b=\"Disney\"\n",
    "print(id(a))\n",
    "print(id(b))"
   ]
  },
  {
   "cell_type": "code",
   "execution_count": 13,
   "id": "f2a6d7b9",
   "metadata": {},
   "outputs": [
    {
     "data": {
      "text/plain": [
       "False"
      ]
     },
     "execution_count": 13,
     "metadata": {},
     "output_type": "execute_result"
    }
   ],
   "source": [
    "a is b"
   ]
  },
  {
   "cell_type": "markdown",
   "id": "0e88efbb",
   "metadata": {},
   "source": [
    "Python control flow\n",
    "if/else statements\n"
   ]
  },
  {
   "cell_type": "code",
   "execution_count": 27,
   "id": "de991388",
   "metadata": {},
   "outputs": [
    {
     "name": "stdout",
     "output_type": "stream",
     "text": [
      "Enter the age 3\n",
      "Enter the age 3\n",
      "Values are equal\n"
     ]
    }
   ],
   "source": [
    "age_1=int(input(\"Enter the age \"))\n",
    "age_2=int(input(\"Enter the age \"))\n",
    "if(age_1>age_2):\n",
    "    print(age_1)\n",
    "elif(age_1==age_2):\n",
    "    print(\"Values are equal\")\n",
    "else:\n",
    "    print(age_2)"
   ]
  },
  {
   "cell_type": "code",
   "execution_count": 23,
   "id": "831ad687",
   "metadata": {},
   "outputs": [
    {
     "name": "stdout",
     "output_type": "stream",
     "text": [
      "Enter the number5\n",
      "<class 'float'>\n",
      "The number is odd\n"
     ]
    }
   ],
   "source": [
    "val=input(\"Enter the number\")\n",
    "value_float=float(val)\n",
    "print(type(value_float))\n",
    "if(value_float%2==0):\n",
    "    print(\"The number is even\")\n",
    "else:\n",
    "    print(\"The number is odd\")"
   ]
  },
  {
   "cell_type": "code",
   "execution_count": 24,
   "id": "4bfb0c88",
   "metadata": {},
   "outputs": [
    {
     "data": {
      "text/plain": [
       "False"
      ]
     },
     "execution_count": 24,
     "metadata": {},
     "output_type": "execute_result"
    }
   ],
   "source": [
    "10%2!=0\n"
   ]
  },
  {
   "cell_type": "code",
   "execution_count": null,
   "id": "225526ea",
   "metadata": {},
   "outputs": [],
   "source": []
  },
  {
   "cell_type": "code",
   "execution_count": null,
   "id": "7087101b",
   "metadata": {},
   "outputs": [],
   "source": [
    "val=input(\"Enter the age\")\n",
    "value_float=float(val)\n",
    "print(type(value_float))\n",
    "if(val<20):\n",
    "    print(\"Teen\")\n",
    "elif(20<val<40):\n",
    "    print(\"Young\")\n",
    "else(val>40):\n",
    "    print(\"senior\")"
   ]
  },
  {
   "cell_type": "code",
   "execution_count": 3,
   "id": "68e6a41b",
   "metadata": {},
   "outputs": [
    {
     "name": "stdout",
     "output_type": "stream",
     "text": [
      "Enter the age23\n",
      "<class 'float'>\n"
     ]
    },
    {
     "ename": "TypeError",
     "evalue": "'<' not supported between instances of 'str' and 'int'",
     "output_type": "error",
     "traceback": [
      "\u001b[1;31m---------------------------------------------------------------------------\u001b[0m",
      "\u001b[1;31mTypeError\u001b[0m                                 Traceback (most recent call last)",
      "Cell \u001b[1;32mIn[3], line 4\u001b[0m\n\u001b[0;32m      2\u001b[0m value_float\u001b[38;5;241m=\u001b[39m\u001b[38;5;28mfloat\u001b[39m(val)\n\u001b[0;32m      3\u001b[0m \u001b[38;5;28mprint\u001b[39m(\u001b[38;5;28mtype\u001b[39m(value_float))\n\u001b[1;32m----> 4\u001b[0m \u001b[38;5;28;01mif\u001b[39;00m(\u001b[43mval\u001b[49m\u001b[38;5;241;43m<\u001b[39;49m\u001b[38;5;241;43m20\u001b[39;49m):\n\u001b[0;32m      5\u001b[0m     \u001b[38;5;28mprint\u001b[39m(\u001b[38;5;124m\"\u001b[39m\u001b[38;5;124mTeen\u001b[39m\u001b[38;5;124m\"\u001b[39m)\n\u001b[0;32m      6\u001b[0m \u001b[38;5;28;01melif\u001b[39;00m(\u001b[38;5;241m20\u001b[39m\u001b[38;5;241m<\u001b[39mval\u001b[38;5;241m<\u001b[39m\u001b[38;5;241m40\u001b[39m):\n",
      "\u001b[1;31mTypeError\u001b[0m: '<' not supported between instances of 'str' and 'int'"
     ]
    }
   ],
   "source": [
    "val=input(\"Enter the age\")\n",
    "value_float=float(val)\n",
    "print(type(value_float))\n",
    "if(val<20):\n",
    "    print(\"Teen\")\n",
    "elif(20<val<40):\n",
    "    print(\"Young\")\n",
    "else:\n",
    "    print(\"senior\")"
   ]
  },
  {
   "cell_type": "code",
   "execution_count": null,
   "id": "46d61fba",
   "metadata": {},
   "outputs": [],
   "source": []
  }
 ],
 "metadata": {
  "kernelspec": {
   "display_name": "Python 3 (ipykernel)",
   "language": "python",
   "name": "python3"
  },
  "language_info": {
   "codemirror_mode": {
    "name": "ipython",
    "version": 3
   },
   "file_extension": ".py",
   "mimetype": "text/x-python",
   "name": "python",
   "nbconvert_exporter": "python",
   "pygments_lexer": "ipython3",
   "version": "3.10.9"
  }
 },
 "nbformat": 4,
 "nbformat_minor": 5
}
