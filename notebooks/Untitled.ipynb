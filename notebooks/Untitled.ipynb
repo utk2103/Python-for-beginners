{
 "cells": [
  {
   "cell_type": "code",
   "execution_count": 2,
   "id": "214030f0",
   "metadata": {},
   "outputs": [
    {
     "name": "stdout",
     "output_type": "stream",
     "text": [
      "su-mit\n"
     ]
    }
   ],
   "source": [
    "a = 10\n",
    "if a == 20:\n",
    "    print(\"HEllo\")\n",
    "else:\n",
    "    print(\"su-mit\")"
   ]
  },
  {
   "cell_type": "code",
   "execution_count": 8,
   "id": "5a1e30dd",
   "metadata": {},
   "outputs": [
    {
     "name": "stdout",
     "output_type": "stream",
     "text": [
      "num:5\n",
      "odd number\n"
     ]
    }
   ],
   "source": [
    "num = int(input(\"num:\"))\n",
    "if (num % 2 ==0):\n",
    "    print(\"Even number\")\n",
    "else:\n",
    "    print(\"odd number\")"
   ]
  },
  {
   "cell_type": "markdown",
   "id": "1428a0fe",
   "metadata": {},
   "source": [
    "### shorthand notation"
   ]
  },
  {
   "cell_type": "code",
   "execution_count": 10,
   "id": "8b92eb88",
   "metadata": {},
   "outputs": [
    {
     "name": "stdout",
     "output_type": "stream",
     "text": [
      "odd\n"
     ]
    }
   ],
   "source": [
    "print(\"even\")if num%2==0 else print(\"odd\")"
   ]
  },
  {
   "cell_type": "code",
   "execution_count": 14,
   "id": "ab89c9c8",
   "metadata": {},
   "outputs": [
    {
     "name": "stdout",
     "output_type": "stream",
     "text": [
      "marks daal do apne:82\n",
      "A\n"
     ]
    }
   ],
   "source": [
    "a = int(input(\"marks daal do apne:\"))\n",
    "if(91<a<100):\n",
    "    print(\"A+\")\n",
    "elif(81<a<90):\n",
    "    print(\"A\")\n",
    "elif(71<a<80):\n",
    "    print(\"B\")\n",
    "else:\n",
    "    print(\"tum tu fail h0\")"
   ]
  },
  {
   "cell_type": "code",
   "execution_count": 15,
   "id": "c88190a3",
   "metadata": {},
   "outputs": [
    {
     "data": {
      "text/plain": [
       "True"
      ]
     },
     "execution_count": 15,
     "metadata": {},
     "output_type": "execute_result"
    }
   ],
   "source": [
    "81<a<90"
   ]
  },
  {
   "cell_type": "code",
   "execution_count": 17,
   "id": "78877104",
   "metadata": {},
   "outputs": [
    {
     "name": "stdout",
     "output_type": "stream",
     "text": [
      "2\n",
      "3\n",
      "4\n",
      "4\n"
     ]
    }
   ],
   "source": [
    "a = int(input(\"\"))\n",
    "b = int(input(\"\"))\n",
    "c = int(input(\"\"))\n",
    "# max(a,b,c)\n",
    "print(max(a,b,c))"
   ]
  },
  {
   "cell_type": "code",
   "execution_count": 3,
   "id": "5313f55d",
   "metadata": {},
   "outputs": [
    {
     "name": "stdout",
     "output_type": "stream",
     "text": [
      "1\n",
      "2\n",
      "3\n",
      "4\n",
      "5\n",
      "6\n",
      "7\n",
      "8\n",
      "9\n",
      "10\n",
      "ByE\n"
     ]
    }
   ],
   "source": [
    "n = 1\n",
    "while n< 11:\n",
    "    print(n)\n",
    "    n = n + 1\n",
    "print(\"ByE\")    "
   ]
  },
  {
   "cell_type": "code",
   "execution_count": 1,
   "id": "ee62e1b7",
   "metadata": {},
   "outputs": [
    {
     "name": "stdout",
     "output_type": "stream",
     "text": [
      "2\n",
      "4\n",
      "6\n",
      "8\n",
      "10\n"
     ]
    }
   ],
   "source": [
    "for i in range(2,11,2):\n",
    "      print(i)"
   ]
  },
  {
   "cell_type": "code",
   "execution_count": 2,
   "id": "36051e0f",
   "metadata": {},
   "outputs": [
    {
     "name": "stdout",
     "output_type": "stream",
     "text": [
      "* \r\n",
      "* * \r\n",
      "* * * \r\n",
      "* * * * \r\n",
      "* * * * * \r\n"
     ]
    }
   ],
   "source": [
    "for i in range(0,5):\n",
    "    for j in range(0,i+1):\n",
    "        print('* ',end=\"\")\n",
    "    print('\\r')  "
   ]
  },
  {
   "cell_type": "code",
   "execution_count": 3,
   "id": "d79d3a6c",
   "metadata": {},
   "outputs": [
    {
     "name": "stdout",
     "output_type": "stream",
     "text": [
      "* \n",
      "* * \n",
      "* * * \n",
      "* * * * \n",
      "* * * * * \n"
     ]
    }
   ],
   "source": [
    "for i in range(1,6):\n",
    "    for j in range(i):\n",
    "        print('* ',end=\"\")\n",
    "    print()  "
   ]
  },
  {
   "cell_type": "code",
   "execution_count": 4,
   "id": "84d950f2",
   "metadata": {},
   "outputs": [
    {
     "name": "stdout",
     "output_type": "stream",
     "text": [
      "* * * * * \r\n",
      "* * * * \r\n",
      "* * * \r\n",
      "* * \r\n",
      "* \r\n"
     ]
    }
   ],
   "source": [
    "for i in range(0,5):\n",
    "    for j in range(i+1,6):\n",
    "        print('* ',end=\"\")\n",
    "    print('\\r')  "
   ]
  },
  {
   "cell_type": "code",
   "execution_count": 6,
   "id": "16db8bb4",
   "metadata": {},
   "outputs": [
    {
     "name": "stdout",
     "output_type": "stream",
     "text": [
      "2\n",
      "3\n",
      "True\n",
      "17.5\n"
     ]
    }
   ],
   "source": [
    "l = [2,3, True,17.5]\n",
    "for i in l:\n",
    "    print(i)"
   ]
  },
  {
   "cell_type": "code",
   "execution_count": 8,
   "id": "cc1a5c65",
   "metadata": {},
   "outputs": [
    {
     "name": "stdout",
     "output_type": "stream",
     "text": [
      "P\n",
      "y\n",
      "t\n",
      "h\n",
      "o\n",
      "n\n"
     ]
    }
   ],
   "source": [
    "for i in 'Python':\n",
    "    print(i)"
   ]
  },
  {
   "cell_type": "code",
   "execution_count": null,
   "id": "31320ccb",
   "metadata": {},
   "outputs": [],
   "source": []
  }
 ],
 "metadata": {
  "kernelspec": {
   "display_name": "Python 3 (ipykernel)",
   "language": "python",
   "name": "python3"
  },
  "language_info": {
   "codemirror_mode": {
    "name": "ipython",
    "version": 3
   },
   "file_extension": ".py",
   "mimetype": "text/x-python",
   "name": "python",
   "nbconvert_exporter": "python",
   "pygments_lexer": "ipython3",
   "version": "3.10.9"
  }
 },
 "nbformat": 4,
 "nbformat_minor": 5
}
