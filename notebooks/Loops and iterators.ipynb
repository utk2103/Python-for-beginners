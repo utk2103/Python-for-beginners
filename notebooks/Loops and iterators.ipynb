{
 "cells": [
  {
   "cell_type": "markdown",
   "id": "c4b7cedf",
   "metadata": {},
   "source": [
    "# Iterations and loops\n",
    "for i in range(start,stop,step)"
   ]
  },
  {
   "cell_type": "code",
   "execution_count": 4,
   "id": "db237e68",
   "metadata": {},
   "outputs": [
    {
     "name": "stdout",
     "output_type": "stream",
     "text": [
      "0_1_2_3_4_5_6_7_8_9_"
     ]
    }
   ],
   "source": [
    "for i in range(0,10):\n",
    "    print(i,end='_')"
   ]
  },
  {
   "cell_type": "code",
   "execution_count": 13,
   "id": "a5f0dddf",
   "metadata": {},
   "outputs": [
    {
     "name": "stdout",
     "output_type": "stream",
     "text": [
      "10_8_6_4_"
     ]
    }
   ],
   "source": [
    "for i in range(10,2,-2):\n",
    "    print(i,end='_')"
   ]
  },
  {
   "cell_type": "code",
   "execution_count": 14,
   "id": "be373b64",
   "metadata": {},
   "outputs": [
    {
     "name": "stdout",
     "output_type": "stream",
     "text": [
      "10\n",
      "8\n",
      "6\n",
      "4\n"
     ]
    }
   ],
   "source": [
    "for i in range(10,2,-2):\n",
    "    print(i)"
   ]
  },
  {
   "cell_type": "code",
   "execution_count": 26,
   "id": "9b7c175c",
   "metadata": {},
   "outputs": [
    {
     "name": "stdout",
     "output_type": "stream",
     "text": [
      "****\n",
      "****\n",
      "****\n"
     ]
    }
   ],
   "source": [
    "for i in range(0,3):\n",
    "    for j in range(0,4):\n",
    "        print(\"*\",end='')\n",
    "    print('')  "
   ]
  },
  {
   "cell_type": "code",
   "execution_count": 43,
   "id": "b71a1af5",
   "metadata": {},
   "outputs": [
    {
     "name": "stdout",
     "output_type": "stream",
     "text": [
      "0\n",
      "01\n",
      "012\n",
      "0123\n"
     ]
    }
   ],
   "source": [
    " for i in range(0,4):\n",
    "    for j in range(0,i+1):\n",
    "        print(j,end=\"\")\n",
    "    print(\"\")"
   ]
  },
  {
   "cell_type": "code",
   "execution_count": 35,
   "id": "c6a6454a",
   "metadata": {},
   "outputs": [
    {
     "name": "stdout",
     "output_type": "stream",
     "text": [
      "*\n",
      "**\n",
      "***\n",
      "****\n"
     ]
    }
   ],
   "source": [
    "for i in range(0,4):\n",
    "    for j in range(0,i+1):\n",
    "        print(\"*\",end=\"\")\n",
    "    print(\"\")"
   ]
  },
  {
   "cell_type": "code",
   "execution_count": 42,
   "id": "17c85c03",
   "metadata": {},
   "outputs": [
    {
     "name": "stdout",
     "output_type": "stream",
     "text": [
      "*****\n",
      "****\n",
      "***\n",
      "**\n",
      "*\n"
     ]
    }
   ],
   "source": [
    "for i in range(0,5):\n",
    "    for j in range(i-1,4):\n",
    "        print(\"*\",end=\"\")\n",
    "    print(\"\")"
   ]
  },
  {
   "cell_type": "code",
   "execution_count": 6,
   "id": "101204f7",
   "metadata": {},
   "outputs": [
    {
     "ename": "SyntaxError",
     "evalue": "invalid syntax (3948198345.py, line 2)",
     "output_type": "error",
     "traceback": [
      "\u001b[1;36m  Cell \u001b[1;32mIn[6], line 2\u001b[1;36m\u001b[0m\n\u001b[1;33m    for i in the range(0,3)\u001b[0m\n\u001b[1;37m                 ^\u001b[0m\n\u001b[1;31mSyntaxError\u001b[0m\u001b[1;31m:\u001b[0m invalid syntax\n"
     ]
    }
   ],
   "source": [
    "list1= ['A','B','c','D']\n",
    "for i in the range(0,3)\n",
    "    print('list1[i]')"
   ]
  },
  {
   "cell_type": "code",
   "execution_count": 1,
   "id": "9054b981",
   "metadata": {},
   "outputs": [
    {
     "ename": "SyntaxError",
     "evalue": "invalid syntax (3669401308.py, line 1)",
     "output_type": "error",
     "traceback": [
      "\u001b[1;36m  Cell \u001b[1;32mIn[1], line 1\u001b[1;36m\u001b[0m\n\u001b[1;33m    for i in the range(0,3)\u001b[0m\n\u001b[1;37m                 ^\u001b[0m\n\u001b[1;31mSyntaxError\u001b[0m\u001b[1;31m:\u001b[0m invalid syntax\n"
     ]
    }
   ],
   "source": [
    "for i in the range(0,3)\n",
    "   for j in the range(i-1,3)\n",
    "    print(\"\")"
   ]
  },
  {
   "cell_type": "code",
   "execution_count": 4,
   "id": "0275d946",
   "metadata": {},
   "outputs": [
    {
     "name": "stdout",
     "output_type": "stream",
     "text": [
      "1\n",
      "2\n",
      "3\n",
      "Found!!\n"
     ]
    }
   ],
   "source": [
    "nums = [1,2,3,4,5]\n",
    "\n",
    "for num in nums:\n",
    "    if num ==4:\n",
    "        print('Found!!')\n",
    "        break\n",
    "    print(num)     "
   ]
  },
  {
   "cell_type": "code",
   "execution_count": 5,
   "id": "645faeb4",
   "metadata": {},
   "outputs": [
    {
     "name": "stdout",
     "output_type": "stream",
     "text": [
      "1\n",
      "2\n",
      "3\n",
      "Found!!\n",
      "5\n"
     ]
    }
   ],
   "source": [
    "nums = [1,2,3,4,5]\n",
    "\n",
    "for num in nums:\n",
    "    if num ==4:\n",
    "        print('Found!!')\n",
    "        continue\n",
    "    print(num)     "
   ]
  },
  {
   "cell_type": "code",
   "execution_count": 9,
   "id": "18244c16",
   "metadata": {},
   "outputs": [
    {
     "name": "stdout",
     "output_type": "stream",
     "text": [
      "1 a\n",
      "1 b\n",
      "1 c\n",
      "2 a\n",
      "2 b\n",
      "2 c\n",
      "3 a\n",
      "3 b\n",
      "3 c\n",
      "4 a\n",
      "4 b\n",
      "4 c\n",
      "5 a\n",
      "5 b\n",
      "5 c\n"
     ]
    }
   ],
   "source": [
    "nums = [1,2,3,4,5]\n",
    "\n",
    "for num in nums:\n",
    "    for letter in 'abc':\n",
    "        print(num,letter)     "
   ]
  },
  {
   "cell_type": "code",
   "execution_count": 14,
   "id": "d3de9752",
   "metadata": {},
   "outputs": [
    {
     "name": "stdout",
     "output_type": "stream",
     "text": [
      "1 abc\n",
      "1 b\n",
      "1 c\n",
      "2 abc\n",
      "2 b\n",
      "2 c\n",
      "3 abc\n",
      "3 b\n",
      "3 c\n",
      "4 abc\n",
      "4 b\n",
      "4 c\n",
      "5 abc\n",
      "5 b\n",
      "5 c\n"
     ]
    }
   ],
   "source": [
    "nums = [1,2,3,4,5]\n",
    "alpha =['abc','b','c']\n",
    "for num in nums:\n",
    "    for letter in alpha:\n",
    "        print(num,letter)     "
   ]
  },
  {
   "cell_type": "code",
   "execution_count": 16,
   "id": "75bddde3",
   "metadata": {},
   "outputs": [
    {
     "name": "stdout",
     "output_type": "stream",
     "text": [
      "1 a\n",
      "1 b\n",
      "1 c\n",
      "2 a\n",
      "2 b\n",
      "2 c\n",
      "3 a\n",
      "3 b\n",
      "3 c\n",
      "4 a\n",
      "4 b\n",
      "4 c\n",
      "5 a\n",
      "5 b\n",
      "5 c\n"
     ]
    }
   ],
   "source": [
    "nums = [1,2,3,4,5]\n",
    "alpha = 'abc'\n",
    "for num in nums:\n",
    "    for letter in alpha:\n",
    "        print(num,letter)     "
   ]
  },
  {
   "cell_type": "code",
   "execution_count": 22,
   "id": "0a8eda27",
   "metadata": {},
   "outputs": [
    {
     "name": "stdout",
     "output_type": "stream",
     "text": [
      "1\n",
      "2\n",
      "3\n",
      "4\n",
      "5\n",
      "6\n",
      "7\n",
      "8\n",
      "9\n"
     ]
    }
   ],
   "source": [
    "nums = 1\n",
    "while nums < 10:\n",
    "        print(nums)\n",
    "        nums += 1"
   ]
  },
  {
   "cell_type": "code",
   "execution_count": null,
   "id": "960c37a9",
   "metadata": {},
   "outputs": [],
   "source": [
    "nums = 1\n",
    "while True:\n",
    "if nums ==5:\n",
    "    break\n",
    "print(nums)\n",
    "nums += 1"
   ]
  },
  {
   "cell_type": "code",
   "execution_count": null,
   "id": "882a24cb",
   "metadata": {},
   "outputs": [],
   "source": []
  }
 ],
 "metadata": {
  "kernelspec": {
   "display_name": "Python 3 (ipykernel)",
   "language": "python",
   "name": "python3"
  },
  "language_info": {
   "codemirror_mode": {
    "name": "ipython",
    "version": 3
   },
   "file_extension": ".py",
   "mimetype": "text/x-python",
   "name": "python",
   "nbconvert_exporter": "python",
   "pygments_lexer": "ipython3",
   "version": "3.10.9"
  }
 },
 "nbformat": 4,
 "nbformat_minor": 5
}
