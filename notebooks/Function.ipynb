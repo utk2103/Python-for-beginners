{
 "cells": [
  {
   "cell_type": "markdown",
   "id": "513c2f4b",
   "metadata": {},
   "source": [
    "# Function\n",
    ".py-- is a regular python file. It's plain text and contains just your code.\n",
    "\n",
    ".ipynb--- is a python notebook and it contains the notebook code, the execution results and other internal settings in a specific format. You can just run .ipynb on the jupyter environment."
   ]
  },
  {
   "cell_type": "code",
   "execution_count": 3,
   "id": "845cc133",
   "metadata": {},
   "outputs": [
    {
     "name": "stdout",
     "output_type": "stream",
     "text": [
      "None\n"
     ]
    }
   ],
   "source": [
    "def hello_func():\n",
    "        pass ##This keyword is used when we don't use the function \n",
    "print(hello_func())"
   ]
  },
  {
   "cell_type": "code",
   "execution_count": 4,
   "id": "f4567c84",
   "metadata": {},
   "outputs": [
    {
     "name": "stdout",
     "output_type": "stream",
     "text": [
      "Hello function!\n"
     ]
    }
   ],
   "source": [
    "def hello_func():\n",
    "    print('Hello function!')\n",
    "hello_func()    "
   ]
  },
  {
   "cell_type": "code",
   "execution_count": 5,
   "id": "98383693",
   "metadata": {},
   "outputs": [
    {
     "name": "stdout",
     "output_type": "stream",
     "text": [
      "HELLO FUNCTION!\n"
     ]
    }
   ],
   "source": [
    "def hello_func():\n",
    "     return 'Hello function!'\n",
    "    \n",
    "print(hello_func().upper())"
   ]
  },
  {
   "cell_type": "code",
   "execution_count": 6,
   "id": "67d8c96a",
   "metadata": {},
   "outputs": [
    {
     "name": "stdout",
     "output_type": "stream",
     "text": [
      "HI Function.\n"
     ]
    }
   ],
   "source": [
    "##Passing a argument in a function\n",
    "def hello_func(greeting):\n",
    "    return '{} Function.'.format(greeting)\n",
    "print(hello_func('HI'))"
   ]
  },
  {
   "cell_type": "code",
   "execution_count": 7,
   "id": "38ba3726",
   "metadata": {},
   "outputs": [
    {
     "name": "stdout",
     "output_type": "stream",
     "text": [
      "HI, Utkarsh Function.\n"
     ]
    }
   ],
   "source": [
    "def hello_func(greeting, name='Utkarsh'):\n",
    "    \n",
    "    return '{}, {} Function.'.format(greeting, name)\n",
    "print(hello_func('HI'))"
   ]
  },
  {
   "cell_type": "code",
   "execution_count": 8,
   "id": "31bb46ed",
   "metadata": {},
   "outputs": [
    {
     "name": "stdout",
     "output_type": "stream",
     "text": [
      "HI, Aryan Function.\n"
     ]
    }
   ],
   "source": [
    "def hello_func(greeting, name='Utkarsh'):\n",
    "    \n",
    "    return '{}, {} Function.'.format(greeting, name)\n",
    "print(hello_func('HI','Aryan'))"
   ]
  },
  {
   "cell_type": "code",
   "execution_count": 9,
   "id": "401ba88c",
   "metadata": {},
   "outputs": [
    {
     "name": "stdout",
     "output_type": "stream",
     "text": [
      "('Math', 'Art')\n",
      "{'name': 'John', 'age': 22}\n"
     ]
    }
   ],
   "source": [
    "def hello_func(greeting, name='Utkarsh'):\n",
    "    \n",
    "    return '{}, {} Function.'.format(greeting, name)\n",
    "#print(hello_func('HI'))\n",
    "\n",
    "def student_info(*args, **kwargs):\n",
    "    print(args)   ##They basically gives us tupels/lists and keywords/Dictionary (arguments)\n",
    "    print(kwargs)\n",
    "    \n",
    "student_info('Math','Art',name='John', age=22)    "
   ]
  },
  {
   "cell_type": "code",
   "execution_count": 10,
   "id": "615e5dd2",
   "metadata": {},
   "outputs": [
    {
     "name": "stdout",
     "output_type": "stream",
     "text": [
      "(['Math', 'Art'], {'name': 'John', 'age': 22})\n",
      "{}\n"
     ]
    }
   ],
   "source": [
    "\n",
    "def student_info(*args, **kwargs):\n",
    "    print(args)  \n",
    "    print(kwargs)\n",
    "\n",
    "courses =  ['Math', 'Art']\n",
    "info = {'name': 'John', 'age':22}\n",
    "\n",
    "student_info(courses, info) ##Without any *\n"
   ]
  },
  {
   "cell_type": "code",
   "execution_count": 11,
   "id": "7b58ec13",
   "metadata": {},
   "outputs": [
    {
     "name": "stdout",
     "output_type": "stream",
     "text": [
      "('Math', 'Art')\n",
      "{'name': 'John', 'age': 22}\n"
     ]
    }
   ],
   "source": [
    "\n",
    "def student_info(*args, **kwargs):\n",
    "    print(args)  \n",
    "    print(kwargs)\n",
    "\n",
    "courses =  ['Math', 'Art']\n",
    "info = {'name': 'John', 'age':22}\n",
    "\n",
    "student_info(*courses, **info) ##With *\n"
   ]
  },
  {
   "cell_type": "code",
   "execution_count": 5,
   "id": "96209773",
   "metadata": {},
   "outputs": [
    {
     "ename": "IndentationError",
     "evalue": "unindent does not match any outer indentation level (<tokenize>, line 9)",
     "output_type": "error",
     "traceback": [
      "\u001b[1;36m  File \u001b[1;32m<tokenize>:9\u001b[1;36m\u001b[0m\n\u001b[1;33m    def days_in_month(year,month):\u001b[0m\n\u001b[1;37m    ^\u001b[0m\n\u001b[1;31mIndentationError\u001b[0m\u001b[1;31m:\u001b[0m unindent does not match any outer indentation level\n"
     ]
    }
   ],
   "source": [
    "#Number of Days in a month. First value placeholder for indexing purposes\n",
    "month_days = [0, 31, 28, 31, 30, 31, 30, 31, 31, 30, 31, 30, 31]\n",
    "\n",
    "def is_leap(year):\n",
    "\"\"\"Return True for leap year and False for non-leap year\"\"\" ##It's string doc\n",
    "    \n",
    "     return year %4 ==0 and (year %100 !=0 or year %400 ==0)\n",
    "\n",
    "    def days_in_month(year,month):\n",
    "\"\"\"Returns the number of days in that month in that year \"\"\"\n",
    "      if  not 1<=month <=12:\n",
    "        return 'Invalid month'\n",
    "\n",
    "     if month ==2 and is_leap(year):\n",
    "        return 29\n",
    "     return month_days[month]\n",
    "     print(is_leap(2017))\n",
    "##print(days_in_month(2017, 2))"
   ]
  },
  {
   "cell_type": "code",
   "execution_count": null,
   "id": "b4789209",
   "metadata": {},
   "outputs": [],
   "source": [
    "def print_models(unprinted_designs, completed_models):\n",
    "    \"\"\"Simulate printing in each design, until none is left.\n",
    "    Move each design to completed_models after printing.\"\"\"\n",
    "    while unprinted_designs:\n",
    "        current_designs= unprinted_designs.pop()\n",
    "        \n",
    "        #simulate creating a 3D print from the design.\n",
    "        print(\"Printing model:\" + current_design)\n",
    "        completed_models.append(current_design)\n",
    "        def show_completed_models(completed_models):\n",
    "            for completed_model in completed_models:\n",
    "                print(completed_model)\n",
    "    unprinted_designs= ['iphone case','robot pendant','dodecahedron']\n",
    "    completed_models =[]\n",
    "    print_models(unprinted_designs, completed_models)\n",
    "    show_completed_models(completed_models)"
   ]
  },
  {
   "cell_type": "code",
   "execution_count": null,
   "id": "4641db86",
   "metadata": {},
   "outputs": [],
   "source": []
  },
  {
   "cell_type": "code",
   "execution_count": null,
   "id": "3ae7f55d",
   "metadata": {},
   "outputs": [],
   "source": []
  }
 ],
 "metadata": {
  "kernelspec": {
   "display_name": "Python 3 (ipykernel)",
   "language": "python",
   "name": "python3"
  },
  "language_info": {
   "codemirror_mode": {
    "name": "ipython",
    "version": 3
   },
   "file_extension": ".py",
   "mimetype": "text/x-python",
   "name": "python",
   "nbconvert_exporter": "python",
   "pygments_lexer": "ipython3",
   "version": "3.10.9"
  }
 },
 "nbformat": 4,
 "nbformat_minor": 5
}
